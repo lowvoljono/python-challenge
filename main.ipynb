{
 "cells": [
  {
   "cell_type": "markdown",
   "metadata": {},
   "source": [
    "Your task is to create a Python script that analyses the records to calculate each of the following:\n",
    "\n",
    "The total number of months included in the dataset\n",
    "\n",
    "The net total amount of Profit/Losses over the entire period\n",
    "\n",
    "The average of the changes in Profit/Losses over the entire period\n",
    "\n",
    "The greatest increase in profits (date and amount) over the entire period\n",
    "\n",
    "The greatest decrease in losses (date and amount) over the entire period\n",
    "\n"
   ]
  },
  {
   "cell_type": "code",
   "execution_count": 4,
   "metadata": {},
   "outputs": [],
   "source": [
    "# Import the pathlib and csv library\n",
    "from pathlib import Path\n",
    "import csv\n",
    "\n",
    "# Set the file path\n",
    "csvpath = Path(\"budget_data.csv\")\n",
    "\n",
    "# Initialize variables\n",
    "total_months = 0\n",
    "total_profit_loss = 0\n",
    "profit_loss_changes = []\n",
    "dates = []\n",
    "\n",
    "# Open the csv file as an object\n",
    "with open(csvpath, \"r\") as csvfile:\n",
    "\n",
    "    # Pass in the csv file to the csv.reader() function\n",
    "    # (with ',' as the delimiter/separator) and return the csvreader object\n",
    "    csvreader = csv.reader(csvfile, delimiter=\",\")\n",
    "\n",
    "    # Read the header row first (skip this step if there is no header)\n",
    "    csv_header = next(csvreader)\n",
    "\n",
    "    # Loop through the rows in the csvreader object\n",
    "    for row in csvreader:\n",
    "\n",
    "        # Add to total months\n",
    "        total_months += 1\n",
    "\n",
    "        # Add to total profit/loss\n",
    "        total_profit_loss += int(row[1])\n",
    "\n",
    "        # Add date to dates list\n",
    "        dates.append(row[0])\n",
    "\n",
    "        # Calculate profit/loss change and add to profit_loss_changes list\n",
    "        if total_months > 1:\n",
    "            profit_loss_changes.append(int(row[1]) - prev_profit_loss)\n",
    "        prev_profit_loss = int(row[1])\n"
   ]
  },
  {
   "cell_type": "code",
   "execution_count": 5,
   "metadata": {},
   "outputs": [],
   "source": [
    "    # Calculate average profit/loss change\n",
    "    average_profit_loss_change = sum(profit_loss_changes) / len(profit_loss_changes)\n",
    "\n",
    "    # Find greatest increase and decrease in profits\n",
    "    greatest_increase = max(profit_loss_changes)\n",
    "    greatest_decrease = min(profit_loss_changes)\n",
    "\n",
    "    # Find corresponding dates for greatest increase and decrease in profits\n",
    "    greatest_increase_date = dates[profit_loss_changes.index(greatest_increase)+1]\n",
    "    greatest_decrease_date = dates[profit_loss_changes.index(greatest_decrease)+1]\n"
   ]
  },
  {
   "cell_type": "code",
   "execution_count": 6,
   "metadata": {},
   "outputs": [
    {
     "name": "stdout",
     "output_type": "stream",
     "text": [
      "Financial Analysis\n",
      "----------------------------\n",
      "Total Months: 86\n",
      "Total Profit/Loss: $38382578\n",
      "Average Change: $-2315.12\n",
      "Greatest Increase in Profits: Feb-2012 ($1926159)\n",
      "Greatest Decrease in Profits: Sep-2013 ($-2196167)\n"
     ]
    }
   ],
   "source": [
    "# Print analysis results\n",
    "print(\"Financial Analysis\")\n",
    "print(\"----------------------------\")\n",
    "print(f\"Total Months: {total_months}\")\n",
    "print(f\"Total Profit/Loss: ${total_profit_loss}\")\n",
    "print(f\"Average Change: ${round(average_profit_loss_change, 2)}\")\n",
    "print(f\"Greatest Increase in Profits: {greatest_increase_date} (${greatest_increase})\")\n",
    "print(f\"Greatest Decrease in Profits: {greatest_decrease_date} (${greatest_decrease})\")"
   ]
  },
  {
   "cell_type": "code",
   "execution_count": null,
   "metadata": {},
   "outputs": [],
   "source": []
  }
 ],
 "metadata": {
  "kernelspec": {
   "display_name": "dev",
   "language": "python",
   "name": "python3"
  },
  "language_info": {
   "codemirror_mode": {
    "name": "ipython",
    "version": 3
   },
   "file_extension": ".py",
   "mimetype": "text/x-python",
   "name": "python",
   "nbconvert_exporter": "python",
   "pygments_lexer": "ipython3",
   "version": "3.7.13"
  },
  "orig_nbformat": 4
 },
 "nbformat": 4,
 "nbformat_minor": 2
}
